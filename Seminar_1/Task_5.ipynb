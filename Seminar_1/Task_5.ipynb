{
 "cells": [
  {
   "attachments": {},
   "cell_type": "markdown",
   "metadata": {},
   "source": [
    "## Задача 5\n",
    "\n",
    "Напишите функцию-генератор. Генератор на вход принимает список с данными о клиенте(смотри ниже пример) Внутри генератора реализуйте обход по списку с данными.\n",
    "На каждой итерации генератор будет возвращать кортеж из двух элементов:\n",
    "* данные по конкретному клиенту,\n",
    "* значение (float), которое показывает, сколько секунд прошло с предыдущей итерации.\n",
    "Эти секунды, должны показывать время не с начала запуска генератора, а именно то время, которое прошло с предыдущей итерации. А значит время на первой итерации должно равняться 0. \n",
    "\n",
    "### Используйте функцию time из модуля time для подсчета времени. Чтобы проверить работу таймера, запустите проход по генератору в цикле с time.sleep(2) \n",
    "\n",
    "Пример данных lst_data = [ {'name': 'John', 'age': 25, 'salary': 5000, 'city': 'Moscow'}, {'name': 'Mike', 'age': 31, 'salary': 7000, 'city': 'St-Petersburg'}, {'name': 'Ann', 'age': 35, 'salary': 15000, 'city': 'Moscow'}, {'name': 'Mak', 'age': 23, 'salary': 6000, 'city': 'Kazan'},]\n",
    "\n",
    "Примеры/Тесты: ({'name': 'John', 'age': 25, 'salary': 5000, 'city': 'Moscow'}, 0.0) ({'name': 'Mike', 'age': 31, 'salary': 7000, 'city': 'St-Petersburg'}, 2.0001144409179688) ({'name': 'Ann', 'age': 35, 'salary': 15000, 'city': 'Moscow'}, 2.0001144409179688) ({'name': 'Mak', 'age': 23, 'salary': 6000, 'city': 'Kazan'}, 2.0001144409179688)"
   ]
  },
  {
   "cell_type": "code",
   "execution_count": 1,
   "metadata": {},
   "outputs": [],
   "source": [
    "lst_data = [\n",
    "    {'name': 'John', 'age': 25, 'salary': 5000, 'city': 'Moscow'},\n",
    "    {'name': 'Mike', 'age': 31, 'salary': 7000, 'city': 'St-Petersburg'},\n",
    "    {'name': 'Ann', 'age': 35, 'salary': 15000, 'city': 'Moscow'},\n",
    "    {'name': 'Mak', 'age': 23, 'salary': 6000, 'city': 'Kazan'},]\n",
    "\n",
    "def genClients(ClientsData:list): # Генератор - способ создания итератора\n",
    "    for client in ClientsData:\n",
    "        yield client # как return"
   ]
  },
  {
   "cell_type": "code",
   "execution_count": 2,
   "metadata": {},
   "outputs": [
    {
     "name": "stdout",
     "output_type": "stream",
     "text": [
      "<generator object genClients at 0x0000005440038BA0>\n"
     ]
    }
   ],
   "source": [
    "gen1 = genClients(lst_data)\n",
    "print(gen1)"
   ]
  },
  {
   "cell_type": "code",
   "execution_count": 3,
   "metadata": {},
   "outputs": [
    {
     "name": "stdout",
     "output_type": "stream",
     "text": [
      "{'name': 'John', 'age': 25, 'salary': 5000, 'city': 'Moscow'}\n",
      "{'name': 'Mike', 'age': 31, 'salary': 7000, 'city': 'St-Petersburg'}\n",
      "{'name': 'Ann', 'age': 35, 'salary': 15000, 'city': 'Moscow'}\n",
      "{'name': 'Mak', 'age': 23, 'salary': 6000, 'city': 'Kazan'}\n"
     ]
    }
   ],
   "source": [
    "for element in gen1:\n",
    "    print(element)"
   ]
  }
 ],
 "metadata": {
  "kernelspec": {
   "display_name": "Python 3",
   "language": "python",
   "name": "python3"
  },
  "language_info": {
   "codemirror_mode": {
    "name": "ipython",
    "version": 3
   },
   "file_extension": ".py",
   "mimetype": "text/x-python",
   "name": "python",
   "nbconvert_exporter": "python",
   "pygments_lexer": "ipython3",
   "version": "3.11.1"
  },
  "orig_nbformat": 4
 },
 "nbformat": 4,
 "nbformat_minor": 2
}
