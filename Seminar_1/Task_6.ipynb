{
 "cells": [
  {
   "attachments": {},
   "cell_type": "markdown",
   "metadata": {},
   "source": [
    "## Задача 6\n",
    "Напишите функцию, которая может принимать любое количество трат пользователя (произвольное количество аргументов)\n",
    "и возвращает их сумму и среднее.\n",
    "На вход поступают целочисленные значения в любом количестве\n",
    "На выходе словарь с ключами суммы трат и средней траты\n",
    "Примеры/Тесты:\n",
    "    <function_name>(1,2,3,4,5,6) -> {'sum': 21, 'mean': 3.5}"
   ]
  },
  {
   "cell_type": "code",
   "execution_count": 13,
   "metadata": {},
   "outputs": [
    {
     "ename": "UnboundLocalError",
     "evalue": "cannot access local variable 'sum' where it is not associated with a value",
     "output_type": "error",
     "traceback": [
      "\u001b[1;31m---------------------------------------------------------------------------\u001b[0m",
      "\u001b[1;31mUnboundLocalError\u001b[0m                         Traceback (most recent call last)",
      "Cell \u001b[1;32mIn[13], line 8\u001b[0m\n\u001b[0;32m      6\u001b[0m         v\u001b[39m=\u001b[39m \u001b[39msum\u001b[39m, average\n\u001b[0;32m      7\u001b[0m     \u001b[39mreturn\u001b[39;00m \u001b[39mdict\u001b[39m()\n\u001b[1;32m----> 8\u001b[0m \u001b[39mprint\u001b[39m (expenses(\u001b[39m1\u001b[39;49m,\u001b[39m2\u001b[39;49m,\u001b[39m3\u001b[39;49m,\u001b[39m4\u001b[39;49m,\u001b[39m5\u001b[39;49m,\u001b[39m6\u001b[39;49m))\n",
      "Cell \u001b[1;32mIn[13], line 2\u001b[0m, in \u001b[0;36mexpenses\u001b[1;34m(*counts)\u001b[0m\n\u001b[0;32m      1\u001b[0m \u001b[39mdef\u001b[39;00m \u001b[39mexpenses\u001b[39m(\u001b[39m*\u001b[39mcounts):\n\u001b[1;32m----> 2\u001b[0m     \u001b[39msum\u001b[39m\u001b[39m=\u001b[39m\u001b[39msum\u001b[39;49m(counts)\n\u001b[0;32m      3\u001b[0m     average \u001b[39m=\u001b[39m \u001b[39msum\u001b[39m \u001b[39m/\u001b[39m \u001b[39m1\u001b[39m \u001b[39m+\u001b[39m \u001b[39mlen\u001b[39m(counts)\n\u001b[0;32m      4\u001b[0m     \u001b[39mfor\u001b[39;00m k,v \u001b[39min\u001b[39;00m \u001b[39mdict\u001b[39m(k,v):\n",
      "\u001b[1;31mUnboundLocalError\u001b[0m: cannot access local variable 'sum' where it is not associated with a value"
     ]
    }
   ],
   "source": [
    "def expenses(*counts):\n",
    "    sum=sum(counts)\n",
    "    average = sum / 1 + len(counts)\n",
    "    for k,v in dict(k,v):\n",
    "        k= 'sum', 'mean'\n",
    "        v= sum, average\n",
    "    return dict()\n",
    "print (expenses(1,2,3,4,5,6))\n",
    "\n",
    "\n",
    "\n"
   ]
  }
 ],
 "metadata": {
  "kernelspec": {
   "display_name": "Python 3",
   "language": "python",
   "name": "python3"
  },
  "language_info": {
   "codemirror_mode": {
    "name": "ipython",
    "version": 3
   },
   "file_extension": ".py",
   "mimetype": "text/x-python",
   "name": "python",
   "nbconvert_exporter": "python",
   "pygments_lexer": "ipython3",
   "version": "3.11.1"
  },
  "orig_nbformat": 4
 },
 "nbformat": 4,
 "nbformat_minor": 2
}
