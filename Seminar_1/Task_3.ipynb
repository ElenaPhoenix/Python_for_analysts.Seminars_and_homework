{
 "cells": [
  {
   "attachments": {},
   "cell_type": "markdown",
   "metadata": {},
   "source": [
    "## Задача 3 \n",
    "Извлеките только два ключа name и age из представленного словаря. На выходе словарь с нужными ключами\n",
    "### Используя dict comprehensions"
   ]
  },
  {
   "cell_type": "code",
   "execution_count": 6,
   "metadata": {},
   "outputs": [
    {
     "name": "stdout",
     "output_type": "stream",
     "text": [
      "{'name': 'John', 'age': 25}\n"
     ]
    }
   ],
   "source": [
    "client = {'name': 'John', 'age':25, 'salary': 5000, 'city':'Moscow'}\n",
    "data_dict = {key: val for key, val in client.items() if key in ('name', 'age')}\n",
    "print(data_dict)"
   ]
  },
  {
   "attachments": {},
   "cell_type": "markdown",
   "metadata": {},
   "source": [
    "### Напишите функцию. Функция на вход принимает: исходный словарь, ключи, которые нужно извлечь (аргумент по умолчанию), На выходе словарь с нужными ключами. Используйте аннотирование типов"
   ]
  }
 ],
 "metadata": {
  "kernelspec": {
   "display_name": "Python 3",
   "language": "python",
   "name": "python3"
  },
  "language_info": {
   "codemirror_mode": {
    "name": "ipython",
    "version": 3
   },
   "file_extension": ".py",
   "mimetype": "text/x-python",
   "name": "python",
   "nbconvert_exporter": "python",
   "pygments_lexer": "ipython3",
   "version": "3.11.1"
  },
  "orig_nbformat": 4
 },
 "nbformat": 4,
 "nbformat_minor": 2
}
